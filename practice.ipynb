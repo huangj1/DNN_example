{
 "cells": [
  {
   "cell_type": "code",
   "execution_count": 2,
   "metadata": {},
   "outputs": [],
   "source": [
    "import tensorflow as tf"
   ]
  },
  {
   "cell_type": "code",
   "execution_count": 2,
   "metadata": {},
   "outputs": [
    {
     "name": "stdout",
     "output_type": "stream",
     "text": [
      "[[2.5 2.5 3. ]\n",
      " [4.  4.5 4.5]]\n",
      "[[0.        0.6931472 1.0986123]\n",
      " [1.3862944 1.609438  1.7917595]]\n",
      "3.5\n"
     ]
    }
   ],
   "source": [
    "v = tf.constant([[1.0, 2.0, 3.0], [4.0, 5.0, 6.0]])\n",
    "with tf.Session() as sess:\n",
    "    # 限制范围\n",
    "    print(tf.clip_by_value(v, 2.5, 4.5).eval())\n",
    "    # 取自然对数\n",
    "    print(tf.log(v).eval())\n",
    "    # 取平均值\n",
    "    print(tf.reduce_mean(v).eval())"
   ]
  },
  {
   "cell_type": "code",
   "execution_count": 4,
   "metadata": {},
   "outputs": [
    {
     "name": "stdout",
     "output_type": "stream",
     "text": [
      "[[ 5. 12.]\n",
      " [21. 32.]]\n",
      "[[19. 22.]\n",
      " [43. 50.]]\n"
     ]
    }
   ],
   "source": [
    "v1 = tf.constant([[1.0, 2.0], [3.0, 4.0]])\n",
    "v2 = tf.constant([[5.0, 6.0], [7.0, 8.0]])\n",
    "with tf.Session() as sess:\n",
    "    # 对应元素间相乘\n",
    "    print((v1 * v2).eval())\n",
    "    # 矩阵乘法\n",
    "    print(tf.matmul(v1, v2).eval())"
   ]
  },
  {
   "cell_type": "code",
   "execution_count": 4,
   "metadata": {},
   "outputs": [
    {
     "name": "stdout",
     "output_type": "stream",
     "text": [
      "10.0\n",
      "[False False  True  True]\n",
      "[4. 3. 3. 4.]\n"
     ]
    }
   ],
   "source": [
    "v1 = tf.constant([1.0, 2.0, 3.0, 4.0])\n",
    "v2 = tf.constant([4.0, 3.0, 2.0, 1.0])\n",
    "with tf.Session() as sess:\n",
    "    # tf.reduce_sum\n",
    "    print(tf.reduce_sum(v1).eval())\n",
    "    # tf.greater\n",
    "    print(tf.greater(v1, v2).eval())\n",
    "    # tf.where\n",
    "    print(tf.where(tf.greater(v1, v2), v1, v2).eval())"
   ]
  },
  {
   "cell_type": "code",
   "execution_count": 7,
   "metadata": {},
   "outputs": [
    {
     "name": "stdout",
     "output_type": "stream",
     "text": [
      "0 -- 0\n",
      "1 -- 1\n",
      "2 -- 2\n",
      "3 -- 3\n",
      "4 -- 4\n",
      "5 -- 5\n",
      "6 -- 6\n",
      "7 -- 7\n",
      "8 -- 8\n",
      "9 -- 9\n"
     ]
    }
   ],
   "source": [
    "classes = ['0','1','2','3','4','5','6','7','8','9']\n",
    "for index, name in enumerate(classes):\n",
    "        print(index,'--',name)"
   ]
  },
  {
   "cell_type": "code",
   "execution_count": 2,
   "metadata": {},
   "outputs": [
    {
     "ename": "KeyboardInterrupt",
     "evalue": "",
     "output_type": "error",
     "traceback": [
      "\u001b[1;31m---------------------------------------------------------------------------\u001b[0m",
      "\u001b[1;31mKeyboardInterrupt\u001b[0m                         Traceback (most recent call last)",
      "\u001b[1;32m<ipython-input-2-1409ae0a224e>\u001b[0m in \u001b[0;36m<module>\u001b[1;34m()\u001b[0m\n\u001b[0;32m      1\u001b[0m \u001b[1;31m# 无隐层（无激活函数）实现自定义损失函数的神经网络训练\u001b[0m\u001b[1;33m\u001b[0m\u001b[1;33m\u001b[0m\u001b[0m\n\u001b[0;32m      2\u001b[0m \u001b[1;32mimport\u001b[0m \u001b[0mmatplotlib\u001b[0m\u001b[1;33m.\u001b[0m\u001b[0mpyplot\u001b[0m \u001b[1;32mas\u001b[0m \u001b[0mplt\u001b[0m\u001b[1;33m\u001b[0m\u001b[0m\n\u001b[1;32m----> 3\u001b[1;33m \u001b[1;32mimport\u001b[0m \u001b[0mtensorflow\u001b[0m \u001b[1;32mas\u001b[0m \u001b[0mtf\u001b[0m\u001b[1;33m\u001b[0m\u001b[0m\n\u001b[0m\u001b[0;32m      4\u001b[0m \u001b[1;31m# 通过numpy生成模拟数据集\u001b[0m\u001b[1;33m\u001b[0m\u001b[1;33m\u001b[0m\u001b[0m\n\u001b[0;32m      5\u001b[0m \u001b[1;32mfrom\u001b[0m \u001b[0mnumpy\u001b[0m\u001b[1;33m.\u001b[0m\u001b[0mrandom\u001b[0m \u001b[1;32mimport\u001b[0m \u001b[0mRandomState\u001b[0m\u001b[1;33m\u001b[0m\u001b[0m\n",
      "\u001b[1;32mE:\\anaconda3\\envs\\tensorflow-gpu\\lib\\site-packages\\tensorflow\\__init__.py\u001b[0m in \u001b[0;36m<module>\u001b[1;34m()\u001b[0m\n\u001b[0;32m     20\u001b[0m \u001b[1;33m\u001b[0m\u001b[0m\n\u001b[0;32m     21\u001b[0m \u001b[1;31m# pylint: disable=g-bad-import-order\u001b[0m\u001b[1;33m\u001b[0m\u001b[1;33m\u001b[0m\u001b[0m\n\u001b[1;32m---> 22\u001b[1;33m \u001b[1;32mfrom\u001b[0m \u001b[0mtensorflow\u001b[0m\u001b[1;33m.\u001b[0m\u001b[0mpython\u001b[0m \u001b[1;32mimport\u001b[0m \u001b[0mpywrap_tensorflow\u001b[0m  \u001b[1;31m# pylint: disable=unused-import\u001b[0m\u001b[1;33m\u001b[0m\u001b[0m\n\u001b[0m\u001b[0;32m     23\u001b[0m \u001b[1;33m\u001b[0m\u001b[0m\n\u001b[0;32m     24\u001b[0m \u001b[1;32mtry\u001b[0m\u001b[1;33m:\u001b[0m\u001b[1;33m\u001b[0m\u001b[0m\n",
      "\u001b[1;32mE:\\anaconda3\\envs\\tensorflow-gpu\\lib\\site-packages\\tensorflow\\python\\__init__.py\u001b[0m in \u001b[0;36m<module>\u001b[1;34m()\u001b[0m\n\u001b[0;32m     57\u001b[0m \u001b[1;32mfrom\u001b[0m \u001b[0mtensorflow\u001b[0m\u001b[1;33m.\u001b[0m\u001b[0mcore\u001b[0m\u001b[1;33m.\u001b[0m\u001b[0mprotobuf\u001b[0m\u001b[1;33m.\u001b[0m\u001b[0mmeta_graph_pb2\u001b[0m \u001b[1;32mimport\u001b[0m \u001b[0mMetaGraphDef\u001b[0m\u001b[1;33m\u001b[0m\u001b[0m\n\u001b[0;32m     58\u001b[0m \u001b[1;32mfrom\u001b[0m \u001b[0mtensorflow\u001b[0m\u001b[1;33m.\u001b[0m\u001b[0mcore\u001b[0m\u001b[1;33m.\u001b[0m\u001b[0mprotobuf\u001b[0m\u001b[1;33m.\u001b[0m\u001b[0mconfig_pb2\u001b[0m \u001b[1;32mimport\u001b[0m \u001b[1;33m*\u001b[0m\u001b[1;33m\u001b[0m\u001b[0m\n\u001b[1;32m---> 59\u001b[1;33m \u001b[1;32mfrom\u001b[0m \u001b[0mtensorflow\u001b[0m\u001b[1;33m.\u001b[0m\u001b[0mcore\u001b[0m\u001b[1;33m.\u001b[0m\u001b[0mprotobuf\u001b[0m\u001b[1;33m.\u001b[0m\u001b[0mtensorflow_server_pb2\u001b[0m \u001b[1;32mimport\u001b[0m \u001b[1;33m*\u001b[0m\u001b[1;33m\u001b[0m\u001b[0m\n\u001b[0m\u001b[0;32m     60\u001b[0m \u001b[1;32mfrom\u001b[0m \u001b[0mtensorflow\u001b[0m\u001b[1;33m.\u001b[0m\u001b[0mcore\u001b[0m\u001b[1;33m.\u001b[0m\u001b[0mutil\u001b[0m\u001b[1;33m.\u001b[0m\u001b[0mevent_pb2\u001b[0m \u001b[1;32mimport\u001b[0m \u001b[1;33m*\u001b[0m\u001b[1;33m\u001b[0m\u001b[0m\n\u001b[0;32m     61\u001b[0m \u001b[1;33m\u001b[0m\u001b[0m\n",
      "\u001b[1;32mE:\\anaconda3\\envs\\tensorflow-gpu\\lib\\importlib\\_bootstrap.py\u001b[0m in \u001b[0;36m_find_and_load\u001b[1;34m(name, import_)\u001b[0m\n",
      "\u001b[1;32mE:\\anaconda3\\envs\\tensorflow-gpu\\lib\\importlib\\_bootstrap.py\u001b[0m in \u001b[0;36m_find_and_load_unlocked\u001b[1;34m(name, import_)\u001b[0m\n",
      "\u001b[1;32mE:\\anaconda3\\envs\\tensorflow-gpu\\lib\\importlib\\_bootstrap.py\u001b[0m in \u001b[0;36m_find_spec\u001b[1;34m(name, path, target)\u001b[0m\n",
      "\u001b[1;32mE:\\anaconda3\\envs\\tensorflow-gpu\\lib\\importlib\\_bootstrap_external.py\u001b[0m in \u001b[0;36mfind_spec\u001b[1;34m(cls, fullname, path, target)\u001b[0m\n",
      "\u001b[1;32mE:\\anaconda3\\envs\\tensorflow-gpu\\lib\\importlib\\_bootstrap_external.py\u001b[0m in \u001b[0;36m_get_spec\u001b[1;34m(cls, fullname, path, target)\u001b[0m\n",
      "\u001b[1;32mE:\\anaconda3\\envs\\tensorflow-gpu\\lib\\importlib\\_bootstrap_external.py\u001b[0m in \u001b[0;36mfind_spec\u001b[1;34m(self, fullname, target)\u001b[0m\n",
      "\u001b[1;32mE:\\anaconda3\\envs\\tensorflow-gpu\\lib\\importlib\\_bootstrap_external.py\u001b[0m in \u001b[0;36m_path_stat\u001b[1;34m(path)\u001b[0m\n",
      "\u001b[1;31mKeyboardInterrupt\u001b[0m: "
     ]
    }
   ],
   "source": [
    "# 无隐层（无激活函数）实现自定义损失函数的神经网络训练\n",
    "import matplotlib.pyplot as plt\n",
    "import tensorflow as tf\n",
    "# 通过numpy生成模拟数据集\n",
    "from numpy.random import RandomState\n",
    "\n",
    "%matplotlib inline\n",
    "\n",
    "costs = []\n",
    "# 训练数据批次大小\n",
    "batch_size=8\n",
    "\n",
    "# 定义权重\n",
    "w1 = tf.Variable(tf.random_normal([2,1],stddev=1,seed=1))\n",
    "\n",
    "# 定义输入和输出占位空间\n",
    "x = tf.placeholder(tf.float32,shape=(None,2),name='x_input')\n",
    "y_ = tf.placeholder(tf.float32,shape=(None,1),name ='y_input')\n",
    "\n",
    "# 定义前向传播\n",
    "y = tf.matmul(x,w1)\n",
    "\n",
    "#定义预测多了和少了的成本（损失系数）\n",
    "loss_less = 10\n",
    "loss_more = 1\n",
    "\n",
    "#自定义损失函数和反向传播的算法（Adam）\n",
    "loss = tf.reduce_sum(tf.where(tf.greater(y,y_),\n",
    "                               (y-y_)*loss_more,(y_-y)*loss_less))\n",
    "\n",
    "train_step = tf.train.AdamOptimizer(0.001).minimize(loss)  # 0.001学习率，最小化损失\n",
    "\n",
    "# 通过随机数生成模拟数据集\n",
    "rdm = RandomState(1)\n",
    "dataset_size=128  # 数据集大小\n",
    "X = rdm.rand(dataset_size,2) # 维度\n",
    "#加入了一个噪音值，-0.05～0.05之间\n",
    "Y = [[x1+x2+rdm.rand()/10.0-0.05] for (x1,x2) in X]  # 定义正确值标签\n",
    "\n",
    "# 创建会话运行训练过程\n",
    "with tf.Session() as sess:\n",
    "    # 初始化变量\n",
    "    init_op = tf.initialize_all_variables()\n",
    "    sess.run(init_op)\n",
    "    print (sess.run(w1))\n",
    "    \n",
    "    # 定义训练轮数\n",
    "    steps = 5000\n",
    "    for i in range(steps):\n",
    "        # 每次选取batch_size个样本训练\n",
    "        start = (i*batch_size)%dataset_size\n",
    "        end = min(start+batch_size,dataset_size)\n",
    "        \n",
    "        # 训练并更新参数,feed_dict喂入数据到占位空间\n",
    "        sess.run(train_step,feed_dict = {x:X[start:end],y_:Y[start:end]})\n",
    "        # 打印损失值\n",
    "        if i%1000==0:\n",
    "            total_loss = sess.run(\n",
    "                loss,feed_dict={x:X,y_:Y})\n",
    "            print(\"After %d training_step(s) ,loss on all data is %g\"%(i,total_loss))\n",
    "            costs.append(total_loss)\n",
    "     # 打印训练后的权重值       \n",
    "    print (sess.run(w1))\n",
    "    \n",
    "    # 显示损失曲线\n",
    "    plt.plot(costs)\n",
    "    plt.ylabel('cost')\n",
    "    plt.xlabel('iterations (per hundreds)')\n",
    "    plt.title(\"Learning rate = 0.001\")\n",
    "    plt.show()"
   ]
  },
  {
   "cell_type": "code",
   "execution_count": null,
   "metadata": {},
   "outputs": [],
   "source": []
  },
  {
   "cell_type": "code",
   "execution_count": 6,
   "metadata": {},
   "outputs": [
    {
     "name": "stdout",
     "output_type": "stream",
     "text": [
      "[[-0.8113182]\n",
      " [ 1.4845988]]\n",
      "After 0 training_step(s) ,loss on all data is 658.783\n",
      "After 1000 training_step(s) ,loss on all data is 8.8205\n",
      "After 2000 training_step(s) ,loss on all data is 7.31111\n",
      "After 3000 training_step(s) ,loss on all data is 7.68647\n",
      "After 4000 training_step(s) ,loss on all data is 9.38618\n",
      "[[1.0159413]\n",
      " [1.0480963]]\n"
     ]
    },
    {
     "data": {
      "image/png": "[encoded data removed]",
      "text/plain": [
       "<Figure size 432x288 with 1 Axes>"
      ]
     },
     "metadata": {
      "needs_background": "light"
     },
     "output_type": "display_data"
    }
   ],
   "source": [
    "# 无隐层（无激活函数）实现自定义损失函数的神经网络训练\n",
    "# 加入L2正则化损失,加入学习率的设置（指数衰减）\n",
    "import matplotlib.pyplot as plt\n",
    "import tensorflow as tf\n",
    "# 通过numpy生成模拟数据集\n",
    "from numpy.random import RandomState\n",
    "\n",
    "%matplotlib inline\n",
    "\n",
    "costs = []\n",
    "# 训练数据批次大小\n",
    "batch_size=8\n",
    "\n",
    "# 定义权重\n",
    "w1 = tf.Variable(tf.random_normal([2,1],stddev=1,seed=1))\n",
    "\n",
    "# 定义输入和输出占位空间\n",
    "x = tf.placeholder(tf.float32,shape=(None,2),name='x_input')\n",
    "y_ = tf.placeholder(tf.float32,shape=(None,1),name ='y_input')\n",
    "\n",
    "# 定义前向传播\n",
    "y = tf.matmul(x,w1)\n",
    "\n",
    "#定义预测多了和少了的成本（损失系数）\n",
    "loss_less = 10\n",
    "loss_more = 1\n",
    "\n",
    "#自定义损失函数+L2正则化损失，反向传播的算法（梯度下降法）\n",
    "loss = tf.reduce_sum(tf.where(tf.greater(y,y_),\n",
    "                               (y-y_)*loss_more,(y_-y)*loss_less)) + tf.contrib.layers.l2_regularizer(0.5)(w1)\n",
    "\n",
    "global_step = tf.Variable(0)\n",
    "# 学习率的设置：指数衰减法，参数：初始参数，全局步骤，每训练100轮乘以衰减速度0,96(当staircase=True的时候)\n",
    "learning_rate = tf.train.exponential_decay(0.1,global_step,100,0.96,staircase=True)\n",
    "train_step = tf.train.AdamOptimizer(learning_rate).minimize(loss,global_step=global_step)\n",
    "\n",
    "# 通过随机数生成模拟数据集\n",
    "rdm = RandomState(1)\n",
    "dataset_size=128  # 数据集大小\n",
    "X = rdm.rand(dataset_size,2) # 维度\n",
    "#加入了一个噪音值，-0.05～0.05之间\n",
    "Y = [[x1+x2+rdm.rand()/10.0-0.05] for (x1,x2) in X]  # 定义正确值标签\n",
    "\n",
    "# 创建会话运行训练过程\n",
    "with tf.Session() as sess:\n",
    "    # 初始化变量\n",
    "    init_op = tf.initialize_all_variables()\n",
    "    sess.run(init_op)\n",
    "    print (sess.run(w1))\n",
    "    \n",
    "    # 定义训练轮数\n",
    "    steps = 5000\n",
    "    for i in range(steps):\n",
    "        # 每次选取batch_size个样本训练\n",
    "        start = (i*batch_size)%dataset_size\n",
    "        end = min(start+batch_size,dataset_size)\n",
    "        \n",
    "        # 训练并更新参数,feed_dict喂入数据到占位空间\n",
    "        sess.run(train_step,feed_dict = {x:X[start:end],y_:Y[start:end]})\n",
    "        # 打印损失值\n",
    "        if i%1000==0:\n",
    "            total_loss = sess.run(\n",
    "                loss,feed_dict={x:X,y_:Y})\n",
    "            print(\"After %d training_step(s) ,loss on all data is %g\"%(i,total_loss))\n",
    "            costs.append(total_loss)\n",
    "     # 打印训练后的权重值       \n",
    "    print (sess.run(w1))\n",
    "    \n",
    "# 显示损失曲线 \n",
    "plt.plot(costs)\n",
    "plt.ylabel('cost')\n",
    "plt.xlabel('iterations (per hundreds)')\n",
    "#plt.title(\"Learning rate = 0.001\")\n",
    "plt.show()"
   ]
  },
  {
   "cell_type": "code",
   "execution_count": null,
   "metadata": {},
   "outputs": [],
   "source": []
  },
  {
   "cell_type": "code",
   "execution_count": 7,
   "metadata": {},
   "outputs": [
    {
     "name": "stdout",
     "output_type": "stream",
     "text": [
      "After 0 training_step(s) ,loss on all data is 1.3481\n",
      "After 1000 training_step(s) ,loss on all data is 1.32641\n",
      "After 2000 training_step(s) ,loss on all data is 1.31387\n",
      "After 3000 training_step(s) ,loss on all data is 1.30627\n",
      "After 4000 training_step(s) ,loss on all data is 1.30153\n"
     ]
    },
    {
     "data": {
      "image/png": "[encoded data removed]",
      "text/plain": [
       "<Figure size 432x288 with 1 Axes>"
      ]
     },
     "metadata": {
      "needs_background": "light"
     },
     "output_type": "display_data"
    }
   ],
   "source": [
    "# tensorflow中集合的运用:损失集合\n",
    "# 计算一个5层神经网络(relu激活函数)带L2正则化的损失函数（均方损失函数）\n",
    "# 加入学习率的设置（指数衰减）\n",
    "import matplotlib.pyplot as plt\n",
    "import tensorflow as tf\n",
    "# 通过numpy生成模拟数据集\n",
    "from numpy.random import RandomState\n",
    "\n",
    "%matplotlib inline\n",
    "\n",
    "costs = []\n",
    "\n",
    "# 获得一层神经网络上的权重，并将这个权重的L2正则化损失加入名称为'losses'的集合里\n",
    "def get_weight(shape,lamada):\n",
    "    #生成对应一层的权重变量\n",
    "    var = tf.Variable(tf.random_normal(shape,seed=1),dtype=tf.float32)\n",
    "    tf.add_to_collection('losses',tf.contrib.layers.l2_regularizer(lamada)(var))\n",
    "    return var\n",
    "\n",
    "# 定义输入和输出占位空间\n",
    "x = tf.placeholder(tf.float32,shape=(None,2),name='x_input')\n",
    "y_ = tf.placeholder(tf.float32,shape=(None,1),name ='y_input')\n",
    "\n",
    "# 训练数据批次大小\n",
    "batch_size=8\n",
    "\n",
    "# 定义每层神经网络的节点个数\n",
    "layer_dimension=[2,10,10,10,1]\n",
    "# 获取神经网络的层数\n",
    "n_layers = len(layer_dimension)\n",
    "# 节点输出值，最开始的时候是输入层\n",
    "cur_layer = x\n",
    "# 当前层的节点个数\n",
    "in_dimension = layer_dimension[0]\n",
    "\n",
    "# 通过一个循环生成5层全连接的神经网络结构\n",
    "for i in range(1,n_layers):\n",
    "    #获取下一层节点的个数\n",
    "    out_dimension = layer_dimension[i]\n",
    "    #获取当前计算层的权重并加入了l2正则化损失\n",
    "    weight = get_weight([in_dimension,out_dimension],0.001)\n",
    "    bias = tf.Variable(tf.constant(0.1,shape = [out_dimension]))\n",
    "    #计算前向传播节点，使用ReLU激活函数\n",
    "    cur_layer = tf.nn.relu(tf.matmul(cur_layer,weight)+bias)\n",
    "    #进入下一层之前，更新下一层节点的输入节点数\n",
    "    in_dimension = layer_dimension[i]\n",
    "\n",
    "# 定义均值化损失函数，并加入损失集合，反向传播的算法（梯度下降法）\n",
    "mse_loss = tf.reduce_mean(tf.square(y_-cur_layer))\n",
    "tf.add_to_collection('losses',mse_loss)\n",
    "\n",
    "# get_collection返回一个列表，列表是这个集合的所有元素\n",
    "# 之前已存有L2正则化的参数，再加上上一步添加进的均方损失值\n",
    "loss = tf.add_n(tf.get_collection('losses')) # 元素对应相加\n",
    "\n",
    "global_step = tf.Variable(0)\n",
    "# 学习率的设置：指数衰减法，参数：初始参数，全局步骤，每训练100轮乘以衰减速度0,96(当staircase=True的时候)\n",
    "learning_rate = tf.train.exponential_decay(0.1,global_step,100,0.96,staircase=True)\n",
    "train_step = tf.train.GradientDescentOptimizer(learning_rate).minimize(loss,global_step=global_step)\n",
    "\n",
    "# 通过随机数生成模拟数据集\n",
    "rdm = RandomState(1)\n",
    "dataset_size=128  # 数据集大小\n",
    "X = rdm.rand(dataset_size,2) # 维度\n",
    "#加入了一个噪音值，-0.05～0.05之间\n",
    "Y = [[x1+x2+rdm.rand()/10.0-0.05] for (x1,x2) in X]  # 定义正确值标签\n",
    "\n",
    "# 创建会话运行训练过程\n",
    "with tf.Session() as sess:\n",
    "    # 初始化变量\n",
    "    init_op = tf.initialize_all_variables()\n",
    "    sess.run(init_op)\n",
    "    #print (sess.run(w1))\n",
    "    \n",
    "    # 定义训练轮数\n",
    "    steps = 5000\n",
    "    for i in range(steps):\n",
    "        # 每次选取batch_size个样本训练\n",
    "        start = (i*batch_size)%dataset_size\n",
    "        end = min(start+batch_size,dataset_size)\n",
    "        \n",
    "        # 训练并更新参数,feed_dict喂入数据到占位空间\n",
    "        sess.run(train_step,feed_dict = {x:X[start:end],y_:Y[start:end]})\n",
    "        # 打印损失值\n",
    "        if i%1000==0:\n",
    "            total_loss = sess.run(\n",
    "                loss,feed_dict={x:X,y_:Y})\n",
    "            print(\"After %d training_step(s) ,loss on all data is %g\"%(i,total_loss))\n",
    "            costs.append(total_loss)\n",
    "     # 打印训练后的权重值       \n",
    "    #print (sess.run(w1))\n",
    "    \n",
    "# 显示损失曲线\n",
    "plt.plot(costs)\n",
    "plt.ylabel('cost')\n",
    "plt.xlabel('iterations (per hundreds)')\n",
    "#plt.title(\"Learning rate = 0.001\")\n",
    "plt.show()"
   ]
  },
  {
   "cell_type": "code",
   "execution_count": null,
   "metadata": {},
   "outputs": [],
   "source": []
  },
  {
   "cell_type": "code",
   "execution_count": 8,
   "metadata": {},
   "outputs": [
    {
     "name": "stdout",
     "output_type": "stream",
     "text": [
      "[0.0, 0.0]\n",
      "[5.0, 4.5]\n",
      "[10.0, 4.555]\n",
      "[10.0, 4.60945]\n"
     ]
    }
   ],
   "source": [
    "#滑动平均模型\n",
    "#滑动平均模型可以使得模型在测试数据上更加健壮\n",
    "import tensorflow as tf\n",
    "\n",
    "#定义一个变量用以计算滑动平均\n",
    "v1 = tf.Variable(0,dtype=tf.float32)\n",
    "\n",
    "#模拟神经网络迭代的轮数，动态控制衰减率\n",
    "step = tf.Variable(0,trainable=False)\n",
    "#定义一个滑动平均的类，初始化时给定衰减率为0.99和控制衰减率的变量\n",
    "ema = tf.train.ExponentialMovingAverage(0.99,step)\n",
    "\n",
    "#定义一个滑动平均的操作，这里需要给定一个列表，每次执行这个操作时，列表里的元素都会被更新\n",
    "maintain_average_op = ema.apply([v1])\n",
    "\n",
    "with tf.Session() as sess:\n",
    "    #初始化所有变量\n",
    "    init_op = tf.initialize_all_variables()\n",
    "    sess.run(init_op)\n",
    "    \n",
    "    #获取滑动平均之后变量的取值\n",
    "    print(sess.run([v1,ema.average(v1)]))\n",
    "    \n",
    "    #更新v1的值为5\n",
    "    sess.run(tf.assign(v1,5))\n",
    "    #更新v1的滑动平均值，衰减率为min{0.99,(1+step)/(10+step)=0.1}=0.1,\n",
    "    #所以v1的滑动平均被更新为0.1*0+0.9*5=4.5\n",
    "    sess.run(maintain_average_op)\n",
    "    print (sess.run([v1,ema.average(v1)]))\n",
    "    \n",
    "    #更新迭代的轮数\n",
    "    sess.run(tf.assign(step,10000))\n",
    "    sess.run(tf.assign(v1,10))\n",
    "    #这里的衰减率变成0.99\n",
    "    #v1 = 0.99*4.5+0.01*10=4.555\n",
    "    sess.run(maintain_average_op)\n",
    "    print (sess.run([v1,ema.average(v1)]))\n",
    "    \n",
    "    #再次更新滑动平均值\n",
    "    sess.run(maintain_average_op)\n",
    "    print (sess.run([v1,ema.average(v1)]))"
   ]
  },
  {
   "cell_type": "code",
   "execution_count": null,
   "metadata": {},
   "outputs": [],
   "source": []
  }
 ],
 "metadata": {
  "kernelspec": {
   "display_name": "Python [default]",
   "language": "python",
   "name": "python3"
  },
  "language_info": {
   "codemirror_mode": {
    "name": "ipython",
    "version": 3
   },
   "file_extension": ".py",
   "mimetype": "text/x-python",
   "name": "python",
   "nbconvert_exporter": "python",
   "pygments_lexer": "ipython3",
   "version": "3.6.6"
  }
 },
 "nbformat": 4,
 "nbformat_minor": 2
}
